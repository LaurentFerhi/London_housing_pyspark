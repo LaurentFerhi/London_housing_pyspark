{
  "nbformat": 4,
  "nbformat_minor": 0,
  "metadata": {
    "colab": {
      "name": "London_housing.ipynb",
      "provenance": [],
      "collapsed_sections": []
    },
    "kernelspec": {
      "name": "python3",
      "display_name": "Python 3"
    }
  },
  "cells": [
    {
      "cell_type": "markdown",
      "metadata": {
        "id": "Ee8I40mwySjr"
      },
      "source": [
        "# London Housing Prices\r\n",
        "https://www.kaggle.com/alexkoziell/london-housing-prices"
      ]
    },
    {
      "cell_type": "code",
      "metadata": {
        "colab": {
          "base_uri": "https://localhost:8080/"
        },
        "id": "_ZaRrVq7cGGw",
        "outputId": "023221fb-d6b2-4476-807b-ff5fdfd1d14f"
      },
      "source": [
        "pip install pyspark"
      ],
      "execution_count": 219,
      "outputs": [
        {
          "output_type": "stream",
          "text": [
            "Requirement already satisfied: pyspark in /usr/local/lib/python3.6/dist-packages (3.0.1)\n",
            "Requirement already satisfied: py4j==0.10.9 in /usr/local/lib/python3.6/dist-packages (from pyspark) (0.10.9)\n"
          ],
          "name": "stdout"
        }
      ]
    },
    {
      "cell_type": "code",
      "metadata": {
        "id": "3KAj1S4Uck94"
      },
      "source": [
        "from pyspark.sql import SparkSession\r\n",
        "spark = SparkSession.builder.appName('housing').getOrCreate()\r\n",
        "\r\n",
        "from pyspark.sql.functions import isnan, when, count, col, udf, avg, max, sum\r\n",
        "from pyspark.sql.types import IntegerType, FloatType\r\n",
        "from pyspark.ml.feature import StringIndexer, VectorAssembler, StandardScaler\r\n",
        "from pyspark.ml import Pipeline\r\n",
        "from pyspark.ml.tuning import CrossValidator, ParamGridBuilder\r\n",
        "from pyspark.ml.evaluation import RegressionEvaluator\r\n",
        "from pyspark.ml.regression import RandomForestRegressor\r\n",
        "\r\n",
        "from sklearn.metrics import mean_squared_error, r2_score\r\n",
        "\r\n",
        "import numpy as np\r\n",
        "import matplotlib.pyplot as plt\r\n",
        "%matplotlib inline\r\n",
        "import seaborn as sns"
      ],
      "execution_count": 299,
      "outputs": []
    },
    {
      "cell_type": "code",
      "metadata": {
        "id": "EqLZeri_cwae"
      },
      "source": [
        "df_month = spark.read.csv('housing_in_london_monthly_variables.csv',inferSchema=True,header=True)\r\n",
        "df_year = spark.read.csv('housing_in_london_yearly_variables.csv',inferSchema=True,header=True)"
      ],
      "execution_count": 221,
      "outputs": []
    },
    {
      "cell_type": "code",
      "metadata": {
        "colab": {
          "base_uri": "https://localhost:8080/"
        },
        "id": "7mReHpiOc5Az",
        "outputId": "91d36ca0-b605-4e78-c7f9-a57da442ae76"
      },
      "source": [
        "df_month.show(10)"
      ],
      "execution_count": 222,
      "outputs": [
        {
          "output_type": "stream",
          "text": [
            "+----------+--------------+-------------+---------+-----------+------------+------------+\n",
            "|      date|          area|average_price|     code|houses_sold|no_of_crimes|borough_flag|\n",
            "+----------+--------------+-------------+---------+-----------+------------+------------+\n",
            "|1995-01-01|city of london|        91449|E09000001|         17|        null|           1|\n",
            "|1995-02-01|city of london|        82203|E09000001|          7|        null|           1|\n",
            "|1995-03-01|city of london|        79121|E09000001|         14|        null|           1|\n",
            "|1995-04-01|city of london|        77101|E09000001|          7|        null|           1|\n",
            "|1995-05-01|city of london|        84409|E09000001|         10|        null|           1|\n",
            "|1995-06-01|city of london|        94901|E09000001|         17|        null|           1|\n",
            "|1995-07-01|city of london|       110128|E09000001|         13|        null|           1|\n",
            "|1995-08-01|city of london|       112329|E09000001|         14|        null|           1|\n",
            "|1995-09-01|city of london|       104473|E09000001|         17|        null|           1|\n",
            "|1995-10-01|city of london|       108038|E09000001|         14|        null|           1|\n",
            "+----------+--------------+-------------+---------+-----------+------------+------------+\n",
            "only showing top 10 rows\n",
            "\n"
          ],
          "name": "stdout"
        }
      ]
    },
    {
      "cell_type": "code",
      "metadata": {
        "colab": {
          "base_uri": "https://localhost:8080/"
        },
        "id": "EsvbIy_WdYfr",
        "outputId": "75669ba0-9c71-42b2-8bd5-99008326c9f0"
      },
      "source": [
        "df_month.printSchema()"
      ],
      "execution_count": 223,
      "outputs": [
        {
          "output_type": "stream",
          "text": [
            "root\n",
            " |-- date: string (nullable = true)\n",
            " |-- area: string (nullable = true)\n",
            " |-- average_price: integer (nullable = true)\n",
            " |-- code: string (nullable = true)\n",
            " |-- houses_sold: integer (nullable = true)\n",
            " |-- no_of_crimes: double (nullable = true)\n",
            " |-- borough_flag: integer (nullable = true)\n",
            "\n"
          ],
          "name": "stdout"
        }
      ]
    },
    {
      "cell_type": "code",
      "metadata": {
        "colab": {
          "base_uri": "https://localhost:8080/"
        },
        "id": "-Jols_FqdCNG",
        "outputId": "15572826-175b-47dd-9715-dc64b347c1b5"
      },
      "source": [
        "df_year.show(10)"
      ],
      "execution_count": 224,
      "outputs": [
        {
          "output_type": "stream",
          "text": [
            "+---------+--------------------+----------+-------------+-----------------+-----------+-------------+---------------+--------------+---------+------------+------------+\n",
            "|     code|                area|      date|median_salary|life_satisfaction|mean_salary|recycling_pct|population_size|number_of_jobs|area_size|no_of_houses|borough_flag|\n",
            "+---------+--------------------+----------+-------------+-----------------+-----------+-------------+---------------+--------------+---------+------------+------------+\n",
            "|E09000001|      city of london|1999-12-01|        33020|             null|      48922|            0|           6581|          null|     null|        null|           1|\n",
            "|E09000002|barking and dagenham|1999-12-01|        21480|             null|      23620|            3|         162444|          null|     null|        null|           1|\n",
            "|E09000003|              barnet|1999-12-01|        19568|             null|      23128|            8|         313469|          null|     null|        null|           1|\n",
            "|E09000004|              bexley|1999-12-01|        18621|             null|      21386|           18|         217458|          null|     null|        null|           1|\n",
            "|E09000005|               brent|1999-12-01|        18532|             null|      20911|            6|         260317|          null|     null|        null|           1|\n",
            "|E09000006|             bromley|1999-12-01|        16720|             null|      21293|           13|         294902|          null|     null|        null|           1|\n",
            "|E09000007|              camden|1999-12-01|        23677|             null|      30249|           13|         190003|          null|     null|        null|           1|\n",
            "|E09000008|             croydon|1999-12-01|        19563|             null|      22205|           13|         332066|          null|     null|        null|           1|\n",
            "|E09000009|              ealing|1999-12-01|        20580|             null|      25046|           12|         302252|          null|     null|        null|           1|\n",
            "|E09000010|             enfield|1999-12-01|        19289|             null|      21006|            9|         272731|          null|     null|        null|           1|\n",
            "+---------+--------------------+----------+-------------+-----------------+-----------+-------------+---------------+--------------+---------+------------+------------+\n",
            "only showing top 10 rows\n",
            "\n"
          ],
          "name": "stdout"
        }
      ]
    },
    {
      "cell_type": "code",
      "metadata": {
        "colab": {
          "base_uri": "https://localhost:8080/"
        },
        "id": "riTTLkQ-dkJr",
        "outputId": "d7973ab1-dfed-4cec-8ef7-3002226b78f2"
      },
      "source": [
        "df_year.printSchema()"
      ],
      "execution_count": 225,
      "outputs": [
        {
          "output_type": "stream",
          "text": [
            "root\n",
            " |-- code: string (nullable = true)\n",
            " |-- area: string (nullable = true)\n",
            " |-- date: string (nullable = true)\n",
            " |-- median_salary: string (nullable = true)\n",
            " |-- life_satisfaction: string (nullable = true)\n",
            " |-- mean_salary: string (nullable = true)\n",
            " |-- recycling_pct: string (nullable = true)\n",
            " |-- population_size: integer (nullable = true)\n",
            " |-- number_of_jobs: double (nullable = true)\n",
            " |-- area_size: integer (nullable = true)\n",
            " |-- no_of_houses: integer (nullable = true)\n",
            " |-- borough_flag: integer (nullable = true)\n",
            "\n"
          ],
          "name": "stdout"
        }
      ]
    },
    {
      "cell_type": "code",
      "metadata": {
        "id": "dnQPLi7NjkeN"
      },
      "source": [
        "# Keep London area only\r\n",
        "df_month = df_month.filter(df_month.borough_flag == 1)\r\n",
        "df_year = df_year.filter(df_year.borough_flag == 1)"
      ],
      "execution_count": 226,
      "outputs": []
    },
    {
      "cell_type": "code",
      "metadata": {
        "id": "ARH6Ha2NdtBj"
      },
      "source": [
        "# df month extract year and drop useless columns\r\n",
        "keep_year = udf(lambda x: x.split('-')[0])\r\n",
        "df_month = df_month.withColumn('year',keep_year(df_month.date))\r\n",
        "df_month = df_month.drop('date','area','borough_flag')\r\n",
        "df_year = df_year.withColumn('year',keep_year(df_year.date))\r\n",
        "df_year = df_year.drop('date','area','borough_flag')"
      ],
      "execution_count": 227,
      "outputs": []
    },
    {
      "cell_type": "markdown",
      "metadata": {
        "id": "UlcSOstFyaQj"
      },
      "source": [
        "## Df month"
      ]
    },
    {
      "cell_type": "code",
      "metadata": {
        "id": "CoFziOApknI9"
      },
      "source": [
        "# df month grouped by year and code\r\n",
        "df_month_by_year = df_month.groupBy('year','code').agg(\r\n",
        "    sum('houses_sold').alias('sum_houses_sold'),\r\n",
        "    sum('no_of_crimes').alias('sum_no_of_crimes'),\r\n",
        "    avg('average_price').alias('avg_price_by_year')\r\n",
        "    ).orderBy('year')"
      ],
      "execution_count": 228,
      "outputs": []
    },
    {
      "cell_type": "code",
      "metadata": {
        "colab": {
          "base_uri": "https://localhost:8080/"
        },
        "id": "eGqc55rnmtB8",
        "outputId": "9a055636-6425-4f77-f745-ada21e8b16f1"
      },
      "source": [
        "df_month_by_year.tail(5)"
      ],
      "execution_count": 229,
      "outputs": [
        {
          "output_type": "execute_result",
          "data": {
            "text/plain": [
              "[Row(year='2020', code='E09000021', sum_houses_sold=None, sum_no_of_crimes=1124.0, avg_price_by_year=483250.0),\n",
              " Row(year='2020', code='E09000022', sum_houses_sold=None, sum_no_of_crimes=2913.0, avg_price_by_year=526690.0),\n",
              " Row(year='2020', code='E09000030', sum_houses_sold=None, sum_no_of_crimes=2748.0, avg_price_by_year=450669.0),\n",
              " Row(year='2020', code='E09000018', sum_houses_sold=None, sum_no_of_crimes=2268.0, avg_price_by_year=412352.0),\n",
              " Row(year='2020', code='E09000031', sum_houses_sold=None, sum_no_of_crimes=2074.0, avg_price_by_year=452299.0)]"
            ]
          },
          "metadata": {
            "tags": []
          },
          "execution_count": 229
        }
      ]
    },
    {
      "cell_type": "code",
      "metadata": {
        "colab": {
          "base_uri": "https://localhost:8080/"
        },
        "id": "1WGCvqU_nFm4",
        "outputId": "e3db8967-b273-4624-c9e7-242f8655e62f"
      },
      "source": [
        "# Count null values in df_month\r\n",
        "df_month_by_year.select([count(when(isnan(c) | col(c).isNull(), c)).alias(c) for c in df_month_by_year.columns]).show()"
      ],
      "execution_count": 230,
      "outputs": [
        {
          "output_type": "stream",
          "text": [
            "+----+----+---------------+----------------+-----------------+\n",
            "|year|code|sum_houses_sold|sum_no_of_crimes|avg_price_by_year|\n",
            "+----+----+---------------+----------------+-----------------+\n",
            "|   0|   0|             34|             209|                0|\n",
            "+----+----+---------------+----------------+-----------------+\n",
            "\n"
          ],
          "name": "stdout"
        }
      ]
    },
    {
      "cell_type": "code",
      "metadata": {
        "colab": {
          "base_uri": "https://localhost:8080/"
        },
        "id": "o7lDHL1Mpk7n",
        "outputId": "584a0792-5f47-4797-88d9-29c4362c085f"
      },
      "source": [
        "# Number of null values on crime by year\r\n",
        "df_month_by_year.select(['year','sum_no_of_crimes']) \\\r\n",
        "    .filter(df_month_by_year.sum_no_of_crimes.isNull()) \\\r\n",
        "    .groupBy('year').count() \\\r\n",
        "    .orderBy('year').show()"
      ],
      "execution_count": 231,
      "outputs": [
        {
          "output_type": "stream",
          "text": [
            "+----+-----+\n",
            "|year|count|\n",
            "+----+-----+\n",
            "|1995|   33|\n",
            "|1996|   33|\n",
            "|1997|   33|\n",
            "|1998|   34|\n",
            "|1999|   33|\n",
            "|2000|   33|\n",
            "|2011|    1|\n",
            "|2012|    1|\n",
            "|2013|    1|\n",
            "|2014|    1|\n",
            "|2015|    1|\n",
            "|2016|    1|\n",
            "|2017|    1|\n",
            "|2018|    1|\n",
            "|2019|    1|\n",
            "|2020|    1|\n",
            "+----+-----+\n",
            "\n"
          ],
          "name": "stdout"
        }
      ]
    },
    {
      "cell_type": "code",
      "metadata": {
        "colab": {
          "base_uri": "https://localhost:8080/"
        },
        "id": "f5OYk2T6sF4S",
        "outputId": "4ef94fcc-74fa-47bf-b478-148d11e2e394"
      },
      "source": [
        "# Number of null values on sum_houses_sold by year\r\n",
        "df_month_by_year.select(['year','sum_houses_sold']) \\\r\n",
        "    .filter(df_month_by_year.sum_houses_sold.isNull()) \\\r\n",
        "    .groupBy('year').count() \\\r\n",
        "    .orderBy('year').show()"
      ],
      "execution_count": 232,
      "outputs": [
        {
          "output_type": "stream",
          "text": [
            "+----+-----+\n",
            "|year|count|\n",
            "+----+-----+\n",
            "|1998|    1|\n",
            "|2020|   33|\n",
            "+----+-----+\n",
            "\n"
          ],
          "name": "stdout"
        }
      ]
    },
    {
      "cell_type": "code",
      "metadata": {
        "id": "ys1XE_sIsMlk"
      },
      "source": [
        "# Row drop before 2001 and == 2020 on the 2 df\r\n",
        "df_month_by_year = df_month_by_year.filter((df_month_by_year.year > 2000) & (df_month_by_year.year != 2020))\r\n",
        "df_year = df_year.filter((df_year.year > 2000) & (df_year.year != 2020))\r\n",
        "\r\n",
        "# Replace remaining with mean\r\n",
        "avg_crime = df_month_by_year.select(mean(df_month_by_year.sum_no_of_crimes)).collect()\r\n",
        "avg_crime = avg_crime[0][0]\r\n",
        "df_month_by_year = df_month_by_year.na.fill(avg_crime,subset=['sum_no_of_crimes'])"
      ],
      "execution_count": 233,
      "outputs": []
    },
    {
      "cell_type": "code",
      "metadata": {
        "colab": {
          "base_uri": "https://localhost:8080/"
        },
        "id": "49gkULuht585",
        "outputId": "244cc894-4968-43e4-b125-e1721a14f75d"
      },
      "source": [
        "# Count missings\r\n",
        "df_month_by_year.select([count(when(isnan(c) | col(c).isNull(), c)).alias(c) for c in df_month_by_year.columns]).show()"
      ],
      "execution_count": 234,
      "outputs": [
        {
          "output_type": "stream",
          "text": [
            "+----+----+---------------+----------------+-----------------+\n",
            "|year|code|sum_houses_sold|sum_no_of_crimes|avg_price_by_year|\n",
            "+----+----+---------------+----------------+-----------------+\n",
            "|   0|   0|              0|               0|                0|\n",
            "+----+----+---------------+----------------+-----------------+\n",
            "\n"
          ],
          "name": "stdout"
        }
      ]
    },
    {
      "cell_type": "markdown",
      "metadata": {
        "id": "BDzVEmL9ye73"
      },
      "source": [
        "## Df year"
      ]
    },
    {
      "cell_type": "code",
      "metadata": {
        "colab": {
          "base_uri": "https://localhost:8080/"
        },
        "id": "moEM4Dlzy7n2",
        "outputId": "0ccf684b-0d1d-4408-fde5-a8353b479023"
      },
      "source": [
        "df_year.printSchema()"
      ],
      "execution_count": 235,
      "outputs": [
        {
          "output_type": "stream",
          "text": [
            "root\n",
            " |-- code: string (nullable = true)\n",
            " |-- median_salary: string (nullable = true)\n",
            " |-- life_satisfaction: string (nullable = true)\n",
            " |-- mean_salary: string (nullable = true)\n",
            " |-- recycling_pct: string (nullable = true)\n",
            " |-- population_size: integer (nullable = true)\n",
            " |-- number_of_jobs: double (nullable = true)\n",
            " |-- area_size: integer (nullable = true)\n",
            " |-- no_of_houses: integer (nullable = true)\n",
            " |-- year: string (nullable = true)\n",
            "\n"
          ],
          "name": "stdout"
        }
      ]
    },
    {
      "cell_type": "code",
      "metadata": {
        "id": "hsehiijSzHgM"
      },
      "source": [
        "df_year = df_year.withColumn('median_salary', df_year.median_salary.cast(IntegerType()))\r\n",
        "df_year = df_year.withColumn('life_satisfaction', df_year.life_satisfaction.cast(FloatType()))\r\n",
        "df_year = df_year.withColumn('mean_salary', df_year.mean_salary.cast(IntegerType()))\r\n",
        "df_year = df_year.withColumn('recycling_pct', df_year.recycling_pct.cast(IntegerType()))"
      ],
      "execution_count": 236,
      "outputs": []
    },
    {
      "cell_type": "code",
      "metadata": {
        "colab": {
          "base_uri": "https://localhost:8080/"
        },
        "id": "q9Pg13UrydOy",
        "outputId": "38ada06f-1c6e-4477-cc9b-30765788601e"
      },
      "source": [
        "# Count missings\r\n",
        "df_year.select([count(when(isnan(c) | col(c).isNull(), c)).alias(c) for c in df_year.columns]).show()"
      ],
      "execution_count": 237,
      "outputs": [
        {
          "output_type": "stream",
          "text": [
            "+----+-------------+-----------------+-----------+-------------+---------------+--------------+---------+------------+----+\n",
            "|code|median_salary|life_satisfaction|mean_salary|recycling_pct|population_size|number_of_jobs|area_size|no_of_houses|year|\n",
            "+----+-------------+-----------------+-----------+-------------+---------------+--------------+---------+------------+----+\n",
            "|   0|           10|              371|          5|           33|             33|            33|       33|          33|   0|\n",
            "+----+-------------+-----------------+-----------+-------------+---------------+--------------+---------+------------+----+\n",
            "\n"
          ],
          "name": "stdout"
        }
      ]
    },
    {
      "cell_type": "code",
      "metadata": {
        "colab": {
          "base_uri": "https://localhost:8080/",
          "height": 387
        },
        "id": "hloArAuD1hTD",
        "outputId": "6a790402-bb78-43ec-b636-7589c27d64ad"
      },
      "source": [
        "# Distribution of life_satisfaction\r\n",
        "sns.displot(\r\n",
        "    data=df_year.select('life_satisfaction').toPandas(),\r\n",
        "    bins=50,\r\n",
        "    kde=True)"
      ],
      "execution_count": 238,
      "outputs": [
        {
          "output_type": "execute_result",
          "data": {
            "text/plain": [
              "<seaborn.axisgrid.FacetGrid at 0x7fbd8f083e10>"
            ]
          },
          "metadata": {
            "tags": []
          },
          "execution_count": 238
        },
        {
          "output_type": "display_data",
          "data": {
            "image/png": "[encoded data removed]",
            "text/plain": [
              "<Figure size 474.25x360 with 1 Axes>"
            ]
          },
          "metadata": {
            "tags": [],
            "needs_background": "light"
          }
        }
      ]
    },
    {
      "cell_type": "code",
      "metadata": {
        "colab": {
          "base_uri": "https://localhost:8080/"
        },
        "id": "MLKJL15d15MN",
        "outputId": "64c7551c-37e3-4b53-87cf-28215e41846c"
      },
      "source": [
        "# Number of null values on crime by year\r\n",
        "df_year.filter((df_year.recycling_pct.isNull()) \\\r\n",
        "               | (df_year.population_size.isNull()) \\\r\n",
        "               | (df_year.number_of_jobs.isNull()) \\\r\n",
        "               | (df_year.area_size.isNull()) \\\r\n",
        "               | (df_year.no_of_houses.isNull()) \\\r\n",
        "               ).groupBy('year').count().orderBy('year').show()"
      ],
      "execution_count": 239,
      "outputs": [
        {
          "output_type": "stream",
          "text": [
            "+----+-----+\n",
            "|year|count|\n",
            "+----+-----+\n",
            "|2019|   33|\n",
            "+----+-----+\n",
            "\n"
          ],
          "name": "stdout"
        }
      ]
    },
    {
      "cell_type": "code",
      "metadata": {
        "id": "k4hhJttG3QcZ"
      },
      "source": [
        "# No yearly data in 2019. Remove 2019 and replace other features by avg\r\n",
        "avg_median_salary = df_year.select(mean(df_year.median_salary)).collect()\r\n",
        "avg_median_salary = avg_median_salary[0][0]\r\n",
        "\r\n",
        "avg_life_satisfaction = np.mean([float(str(i[0])) for i in df_year.select('life_satisfaction').collect() if str(i[0]) not in ['nan','None']])\r\n",
        "\r\n",
        "avg_mean_salary = df_year.select(mean(df_year.mean_salary)).collect()\r\n",
        "avg_mean_salary = avg_mean_salary[0][0]\r\n",
        "\r\n",
        "df_year = df_year.na.fill(avg_median_salary,subset=['median_salary'])\r\n",
        "df_year = df_year.na.fill(avg_life_satisfaction,subset=['life_satisfaction'])\r\n",
        "df_year = df_year.na.fill(avg_mean_salary,subset=['mean_salary'])\r\n",
        "\r\n",
        "df_month_by_year = df_month_by_year.filter(df_month_by_year.year != 2019)\r\n",
        "df_year = df_year.filter(df_year.year != 2019)"
      ],
      "execution_count": 244,
      "outputs": []
    },
    {
      "cell_type": "code",
      "metadata": {
        "colab": {
          "base_uri": "https://localhost:8080/"
        },
        "id": "0Q_0NIuE4E60",
        "outputId": "3b0c6681-c31b-48e8-d46e-7bd58f77797d"
      },
      "source": [
        "# Count missings\r\n",
        "df_year.select([count(when(isnan(c) | col(c).isNull(), c)).alias(c) for c in df_year.columns]).show()"
      ],
      "execution_count": 245,
      "outputs": [
        {
          "output_type": "stream",
          "text": [
            "+----+-------------+-----------------+-----------+-------------+---------------+--------------+---------+------------+----+\n",
            "|code|median_salary|life_satisfaction|mean_salary|recycling_pct|population_size|number_of_jobs|area_size|no_of_houses|year|\n",
            "+----+-------------+-----------------+-----------+-------------+---------------+--------------+---------+------------+----+\n",
            "|   0|            0|                0|          0|            0|              0|             0|        0|           0|   0|\n",
            "+----+-------------+-----------------+-----------+-------------+---------------+--------------+---------+------------+----+\n",
            "\n"
          ],
          "name": "stdout"
        }
      ]
    },
    {
      "cell_type": "markdown",
      "metadata": {
        "id": "cco5g5Fy4HDD"
      },
      "source": [
        "## Join 2 datasets and predict average house price"
      ]
    },
    {
      "cell_type": "code",
      "metadata": {
        "colab": {
          "base_uri": "https://localhost:8080/"
        },
        "id": "PCxdPbBF4GSI",
        "outputId": "4f5149dd-2d6d-41fd-e23f-90d7644a4b36"
      },
      "source": [
        "df = df_year.join(df_month_by_year, ['year','code'], how='left')\r\n",
        "df = df.withColumn('year', df.year.cast(IntegerType()))\r\n",
        "df.show(5)"
      ],
      "execution_count": 246,
      "outputs": [
        {
          "output_type": "stream",
          "text": [
            "+----+---------+-------------+-----------------+-----------+-------------+---------------+--------------+---------+------------+---------------+----------------+------------------+\n",
            "|year|     code|median_salary|life_satisfaction|mean_salary|recycling_pct|population_size|number_of_jobs|area_size|no_of_houses|sum_houses_sold|sum_no_of_crimes| avg_price_by_year|\n",
            "+----+---------+-------------+-----------------+-----------+-------------+---------------+--------------+---------+------------+---------------+----------------+------------------+\n",
            "|2001|E09000001|        39104|         7.441367|      62819|            0|           7359|      339000.0|      315|        5009|            367|             0.0|250625.58333333334|\n",
            "|2001|E09000002|        22323|         7.441367|      26050|            3|         165654|       54000.0|     3780|       68298|           3203|         20476.0|           88664.0|\n",
            "|2001|E09000003|        20916|         7.441367|      26068|            8|         319481|      138000.0|     8675|      130515|           6803|         28059.0|185563.33333333334|\n",
            "|2001|E09000004|        20217|         7.441367|      23559|           20|         218757|       75000.0|     6429|       91606|           5270|         20224.0|116527.08333333333|\n",
            "|2001|E09000005|        21878|         7.441367|      24164|            7|         269620|      116000.0|     4323|      101427|           4725|         29829.0|157287.33333333334|\n",
            "+----+---------+-------------+-----------------+-----------+-------------+---------------+--------------+---------+------------+---------------+----------------+------------------+\n",
            "only showing top 5 rows\n",
            "\n"
          ],
          "name": "stdout"
        }
      ]
    },
    {
      "cell_type": "code",
      "metadata": {
        "id": "xWL4yP4z8TVN"
      },
      "source": [
        "# One hot encode area code\r\n",
        "string_indexer = StringIndexer(inputCol='code', outputCol='code_indexed')\r\n",
        "df = string_indexer.fit(df).transform(df).drop('code')"
      ],
      "execution_count": 247,
      "outputs": []
    },
    {
      "cell_type": "code",
      "metadata": {
        "colab": {
          "base_uri": "https://localhost:8080/"
        },
        "id": "U-kcKKN2CPqD",
        "outputId": "66a75fa6-fe3d-4d9e-f6d6-f4b475a16eb3"
      },
      "source": [
        "df.show(5)"
      ],
      "execution_count": 248,
      "outputs": [
        {
          "output_type": "stream",
          "text": [
            "+----+-------------+-----------------+-----------+-------------+---------------+--------------+---------+------------+---------------+----------------+------------------+------------+\n",
            "|year|median_salary|life_satisfaction|mean_salary|recycling_pct|population_size|number_of_jobs|area_size|no_of_houses|sum_houses_sold|sum_no_of_crimes| avg_price_by_year|code_indexed|\n",
            "+----+-------------+-----------------+-----------+-------------+---------------+--------------+---------+------------+---------------+----------------+------------------+------------+\n",
            "|2001|        39104|         7.441367|      62819|            0|           7359|      339000.0|      315|        5009|            367|             0.0|250625.58333333334|         0.0|\n",
            "|2001|        22323|         7.441367|      26050|            3|         165654|       54000.0|     3780|       68298|           3203|         20476.0|           88664.0|         1.0|\n",
            "|2001|        20916|         7.441367|      26068|            8|         319481|      138000.0|     8675|      130515|           6803|         28059.0|185563.33333333334|         2.0|\n",
            "|2001|        20217|         7.441367|      23559|           20|         218757|       75000.0|     6429|       91606|           5270|         20224.0|116527.08333333333|         3.0|\n",
            "|2001|        21878|         7.441367|      24164|            7|         269620|      116000.0|     4323|      101427|           4725|         29829.0|157287.33333333334|         4.0|\n",
            "+----+-------------+-----------------+-----------+-------------+---------------+--------------+---------+------------+---------------+----------------+------------------+------------+\n",
            "only showing top 5 rows\n",
            "\n"
          ],
          "name": "stdout"
        }
      ]
    },
    {
      "cell_type": "code",
      "metadata": {
        "colab": {
          "base_uri": "https://localhost:8080/",
          "height": 595
        },
        "id": "KbgakM3KCpmU",
        "outputId": "b4c52cac-c980-4a6c-d2f2-f23b0b4699a3"
      },
      "source": [
        "# Correlation matrix\r\n",
        "fig, ax = plt.subplots(figsize=(10, 10))\r\n",
        "cmap = sns.diverging_palette(220, 10, as_cmap=True)\r\n",
        "sns.heatmap(\r\n",
        "    df.toPandas().corr(), \r\n",
        "    cmap=cmap, \r\n",
        "    vmax=1.0, \r\n",
        "    vmin=-1.0, \r\n",
        "    center=0, \r\n",
        "    square=True, \r\n",
        "    linewidths=.5, \r\n",
        "    cbar_kws={\"shrink\": .8},\r\n",
        "    annot=True,\r\n",
        "    fmt='.1f'\r\n",
        ")"
      ],
      "execution_count": 256,
      "outputs": [
        {
          "output_type": "execute_result",
          "data": {
            "text/plain": [
              "<matplotlib.axes._subplots.AxesSubplot at 0x7fbd8ccf9c50>"
            ]
          },
          "metadata": {
            "tags": []
          },
          "execution_count": 256
        },
        {
          "output_type": "display_data",
          "data": {
            "image/png": "[encoded data removed]",
            "text/plain": [
              "<Figure size 720x720 with 2 Axes>"
            ]
          },
          "metadata": {
            "tags": [],
            "needs_background": "light"
          }
        }
      ]
    },
    {
      "cell_type": "markdown",
      "metadata": {
        "id": "cpoA8_L7E7Ae"
      },
      "source": [
        "## Regression"
      ]
    },
    {
      "cell_type": "code",
      "metadata": {
        "id": "FIayCFcuGZmr"
      },
      "source": [
        "df = df.withColumnRenamed('avg_price_by_year','target')"
      ],
      "execution_count": 260,
      "outputs": []
    },
    {
      "cell_type": "code",
      "metadata": {
        "id": "tzS3ynSgE4_M"
      },
      "source": [
        "# Split train set to a ml train set and a validation set\r\n",
        "df_train, df_test = df.randomSplit([0.8, 0.2], seed=42)\r\n",
        "\r\n",
        "# Functions in the pipeline\r\n",
        "evaluator = RegressionEvaluator(labelCol='target', metricName='r2')\r\n",
        "assembler = VectorAssembler(inputCols=[c for c in df.columns if c != 'target'], outputCol='features')\r\n",
        "scaler = StandardScaler(inputCol='features', outputCol='scaledFeatures', withStd=True, withMean=True)\r\n",
        "reg = RandomForestRegressor(featuresCol='scaledFeatures', labelCol='target')\r\n",
        "\r\n",
        "# Definition of pipeline\r\n",
        "pipeline_ml = Pipeline(stages=[assembler, scaler, reg])\r\n",
        "\r\n",
        "# Definition of the grid parameters\r\n",
        "paramGrid = ParamGridBuilder().\\\r\n",
        "            addGrid(reg.maxDepth, [2,5]).\\\r\n",
        "            addGrid(reg.numTrees, [50,100]).\\\r\n",
        "            build()\r\n",
        "\r\n",
        "# Definition of the cross validator\r\n",
        "cv = CrossValidator(\r\n",
        "  estimator=pipeline_ml,\r\n",
        "  estimatorParamMaps=paramGrid, \r\n",
        "  evaluator=evaluator, \r\n",
        "  numFolds=5)\r\n",
        "\r\n",
        "# Train the model\r\n",
        "model = cv.fit(df_train)\r\n",
        "\r\n",
        "# Predict classes on test part\r\n",
        "pred_ml_test = model.transform(df_test)"
      ],
      "execution_count": 307,
      "outputs": []
    },
    {
      "cell_type": "code",
      "metadata": {
        "colab": {
          "base_uri": "https://localhost:8080/"
        },
        "id": "wqMHpmJvRIxN",
        "outputId": "449fd7fd-2707-4072-e9e9-f0335f6ff61f"
      },
      "source": [
        "data = pred_ml_test.select(['target','prediction']).toPandas()\r\n",
        "print('RMSE: {}'.format(round(np.sqrt(mean_squared_error(data.target, data.prediction)))))\r\n",
        "print('r2: {}'.format(evaluator.evaluate(pred_ml_test)))"
      ],
      "execution_count": 308,
      "outputs": [
        {
          "output_type": "stream",
          "text": [
            "RMSE: 72865\n",
            "r2: 0.8147952546881442\n"
          ],
          "name": "stdout"
        }
      ]
    },
    {
      "cell_type": "code",
      "metadata": {
        "colab": {
          "base_uri": "https://localhost:8080/",
          "height": 474
        },
        "id": "RuB0OuwfPpF_",
        "outputId": "c57beb6f-e0ec-49c2-cb03-236102183756"
      },
      "source": [
        "fig, ax = plt.subplots(figsize=(8, 6))\r\n",
        "sns.regplot(data = data, x='target', y='prediction')\r\n",
        "sns.lineplot([0,1.3e6],[0,1.3e6])\r\n",
        "plt.xlim(0,1.3e6)\r\n",
        "plt.ylim(0,1.3e6)"
      ],
      "execution_count": 313,
      "outputs": [
        {
          "output_type": "stream",
          "text": [
            "/usr/local/lib/python3.6/dist-packages/seaborn/_decorators.py:43: FutureWarning: Pass the following variables as keyword args: x, y. From version 0.12, the only valid positional argument will be `data`, and passing other arguments without an explicit keyword will result in an error or misinterpretation.\n",
            "  FutureWarning\n"
          ],
          "name": "stderr"
        },
        {
          "output_type": "execute_result",
          "data": {
            "text/plain": [
              "(0.0, 1300000.0)"
            ]
          },
          "metadata": {
            "tags": []
          },
          "execution_count": 313
        },
        {
          "output_type": "display_data",
          "data": {
            "image/png": "[encoded data removed]",
            "text/plain": [
              "<Figure size 576x432 with 1 Axes>"
            ]
          },
          "metadata": {
            "tags": [],
            "needs_background": "light"
          }
        }
      ]
    }
  ]
}